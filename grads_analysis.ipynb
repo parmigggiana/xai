{
 "cells": [
  {
   "cell_type": "code",
   "execution_count": 1,
   "id": "79dc085a",
   "metadata": {},
   "outputs": [],
   "source": [
    "from src.datasets.registry import get_dataset\n",
    "from src.datasets.common import BaseDataset\n",
    "from pathlib import Path\n",
    "import json\n",
    "from src.utils import download_and_extract_dataset"
   ]
  },
  {
   "cell_type": "code",
   "execution_count": 2,
   "id": "e5cba54d",
   "metadata": {},
   "outputs": [],
   "source": [
    "DATASET_NAMES = [\"CHAOS\", \"MMWHS\"]\n",
    "DOMAINS = [\"CT\", \"MR\"]\n",
    "DATA_PATH = \"data/\"\n",
    "CHECKPOINT_PATH = \"checkpoints/\"\n",
    "USE_3D = False\n",
    "TRAINING_EPOCHS = {\n",
    "    (\"CHAOS\", \"CT\"): 1,\n",
    "}\n",
    "BATCH_SIZE = 64\n",
    "SPATIAL_SIZE = 64\n",
    "LEARNING_RATE = 1e-3\n",
    "WEIGHT_DECAY = 1e-5\n",
    "\n",
    "# Set True to enable debug prints/timers/visualizations)\n",
    "DEBUG = True"
   ]
  },
  {
   "cell_type": "code",
   "execution_count": 3,
   "id": "2fe7c283",
   "metadata": {},
   "outputs": [],
   "source": [
    "CACHE_MAX_ITEMS = 32  # set the in-memory file cache size per dataset (images and segs)\n",
    "ENABLE_CACHE = True    # set to False to disable caching entirely"
   ]
  },
  {
   "cell_type": "code",
   "execution_count": 4,
   "id": "a0801709",
   "metadata": {},
   "outputs": [],
   "source": [
    "CHECKPOINT_PATH = Path(CHECKPOINT_PATH)\n",
    "DATA_PATH = Path(DATA_PATH)\n",
    "CHECKPOINT_PATH.mkdir(parents=True, exist_ok=True)\n",
    "\n",
    "if USE_3D:\n",
    "    encoder_type = \"swin_unetr\"\n",
    "else:\n",
    "    encoder_type = \"clipseg\""
   ]
  },
  {
   "cell_type": "code",
   "execution_count": 5,
   "id": "7eb09eed",
   "metadata": {},
   "outputs": [],
   "source": [
    "import torch\n",
    "from monai import transforms\n",
    "\n",
    "\n",
    "# Normalization stats (mean, std) per dataset/domain\n",
    "NORM_STATS = {\n",
    "    (\"MMWHS\", \"MR\"):  (186.5875, 258.5917),\n",
    "    (\"MMWHS\", \"CT\"):  (-745.0086, 1042.7251),\n",
    "    (\"CHAOS\",  \"MR\"): (90.8292, 168.8922),\n",
    "    (\"CHAOS\",  \"CT\"): (-478.1732, 476.7163),\n",
    "}\n",
    "\n",
    "# Optimized preprocessing: resize early\n",
    "\n",
    "def get_preprocessing(dataset_name: str, domain: str, is_training=True):\n",
    "    decode_func = get_decode_func(dataset_name, domain)\n",
    "    mean_std = NORM_STATS.get((dataset_name, domain))\n",
    "    mean, std = (mean_std if mean_std is not None else (None, None))\n",
    "\n",
    "    # Image-specific transforms\n",
    "    if USE_3D:\n",
    "        image_transforms = [\n",
    "            transforms.EnsureChannelFirst(channel_dim=\"no_channel\"),\n",
    "            transforms.Orientation(axcodes=\"RAS\"),\n",
    "        ]\n",
    "    else:\n",
    "        image_transforms = [\n",
    "            transforms.Lambda(lambda x: x.squeeze(-1)),\n",
    "            transforms.EnsureChannelFirst(channel_dim=\"no_channel\"),\n",
    "        ]\n",
    "\n",
    "    # Resize early to reduce compute\n",
    "    image_transforms.append(\n",
    "        transforms.Resize(\n",
    "            spatial_size=SPATIAL_SIZE,\n",
    "            size_mode=\"longest\",\n",
    "            mode=\"area\",\n",
    "            anti_aliasing=True,\n",
    "        )\n",
    "    )\n",
    "\n",
    "    # Convert to tensor and ensure float32 for stable CPU ops\n",
    "    image_transforms.extend([\n",
    "        transforms.ToTensor(),\n",
    "        transforms.EnsureType(dtype=torch.float32),\n",
    "    ])\n",
    "\n",
    "    # Augmentations (training only) — run in float32 on CPU\n",
    "    if is_training:\n",
    "        image_transforms.extend(\n",
    "            [\n",
    "                transforms.RandGaussianNoise(prob=0.15, std=0.05),\n",
    "                transforms.RandAdjustContrast(prob=0.15, gamma=(0.95, 1.05)),\n",
    "            ]\n",
    "        )\n",
    "\n",
    "    # Normalize (still in float32)\n",
    "    if mean is not None and std is not None:\n",
    "        image_transforms.append(\n",
    "            transforms.NormalizeIntensity(\n",
    "                subtrahend=float(mean),\n",
    "                divisor=float(std),\n",
    "                channel_wise=False,\n",
    "            )\n",
    "        )\n",
    "\n",
    "    # Repeat to 3 channels only at the end (2D only)\n",
    "    if not USE_3D:\n",
    "        image_transforms.append(transforms.RepeatChannel(repeats=3))\n",
    "\n",
    "    image_transform = transforms.Compose(image_transforms)\n",
    "\n",
    "    # Segmentation transforms\n",
    "    if not USE_3D:\n",
    "        seg_transforms = [\n",
    "            transforms.Lambda(lambda x: x.squeeze(-1)),\n",
    "            transforms.EnsureChannelFirst(channel_dim=\"no_channel\"),\n",
    "        ]\n",
    "    else:\n",
    "        seg_transforms = [\n",
    "            transforms.EnsureChannelFirst(channel_dim=\"no_channel\"),\n",
    "            transforms.Orientation(axcodes=\"RAS\"),\n",
    "        ]\n",
    "\n",
    "    seg_transforms.extend(\n",
    "        [\n",
    "            transforms.ToTensor(),\n",
    "            transforms.EnsureType(dtype=torch.float32),\n",
    "            transforms.Lambda(lambda x: decode_func(x)),  # decode after tensor conversion\n",
    "            transforms.Resize(\n",
    "                spatial_size=SPATIAL_SIZE, size_mode=\"longest\", mode=\"nearest\"\n",
    "            ),\n",
    "            transforms.EnsureType(dtype=torch.float32),\n",
    "        ]\n",
    "    )\n",
    "\n",
    "    seg_transform = transforms.Compose(seg_transforms)\n",
    "    return image_transform, seg_transform\n",
    "\n",
    "\n",
    "def get_decode_func(dataset_name, domain):\n",
    "    from src.datasets.mmwhs import mmwhs_labels\n",
    "\n",
    "    decode = None\n",
    "    if dataset_name == \"CHAOS\":\n",
    "        if domain in [\"MR\", \"MRI\"]:\n",
    "            def decode(labels):\n",
    "                # Convert intensity values to class indices (keep as float32)\n",
    "                return labels // 63\n",
    "        elif domain == \"CT\":\n",
    "            def decode(labels):\n",
    "                return torch.where(labels > 0, 1.0, 0.0)\n",
    "    elif dataset_name == \"MMWHS\":\n",
    "        def decode(labels):\n",
    "            decoded_labels = torch.zeros_like(labels, dtype=torch.float32)\n",
    "            for i, label_val in enumerate(mmwhs_labels.keys()):\n",
    "                decoded_labels[labels == label_val] = i\n",
    "            return decoded_labels\n",
    "\n",
    "    if decode is None:\n",
    "        def decode(labels):\n",
    "            return labels\n",
    "\n",
    "    return decode"
   ]
  },
  {
   "cell_type": "code",
   "execution_count": 6,
   "id": "eee8505b",
   "metadata": {},
   "outputs": [],
   "source": [
    "def print_grad_status(model):\n",
    "    trainable = []\n",
    "    frozen = []\n",
    "    for name, p in model.named_parameters():\n",
    "        if p.requires_grad:\n",
    "            trainable.append(name)\n",
    "        else:\n",
    "            frozen.append(name)\n",
    "    print(f\"\\n=== Parameters requiring grad: {len(trainable)} ===\")\n",
    "    # for n in trainable:\n",
    "        # print(f\"  + {n}\")\n",
    "    print(f\"\\n=== Parameters frozen (no grad): {len(frozen)}===\")\n",
    "    # for n in frozen:\n",
    "    #     print(f\"  - {n}\")\n",
    "\n",
    "    return trainable, frozen"
   ]
  },
  {
   "cell_type": "code",
   "execution_count": 7,
   "id": "1f132bab",
   "metadata": {},
   "outputs": [],
   "source": [
    "def flip_grad_status(model):\n",
    "    for p in model.parameters():\n",
    "        p.requires_grad_(not p.requires_grad)"
   ]
  },
  {
   "cell_type": "code",
   "execution_count": 8,
   "id": "4ee31296",
   "metadata": {},
   "outputs": [],
   "source": [
    "# Helpers to snapshot parameters and report unchanged ones after finetuning\n",
    "import torch\n",
    "\n",
    "def snapshot_parameters(model):\n",
    "    \"\"\"Return a CPU snapshot of all parameter tensors by name.\"\"\"\n",
    "    return {name: p.detach().clone().cpu() for name, p in model.named_parameters()}\n",
    "\n",
    "\n",
    "def print_unchanged_parameters(model, snapshot, only_requires_grad: bool = True):\n",
    "    \"\"\"Print all parameter names whose values are identical to the snapshot.\n",
    "\n",
    "    Args:\n",
    "        model: The model to compare.\n",
    "        snapshot: Dict[name -> Tensor] with the pre-finetune parameter values.\n",
    "        only_requires_grad: If True, only consider parameters with requires_grad=True.\n",
    "    \"\"\"\n",
    "    unchanged = []\n",
    "    considered = 0\n",
    "    for name, p in model.named_parameters():\n",
    "        if only_requires_grad and not p.requires_grad:\n",
    "            continue\n",
    "        prev = snapshot.get(name)\n",
    "        if prev is None:\n",
    "            continue\n",
    "        curr = p.detach().cpu()\n",
    "        considered += 1\n",
    "        if torch.equal(curr, prev):\n",
    "            unchanged.append(name)\n",
    "\n",
    "    print(\"\\n=== Parameters unchanged after finetuning ===\")\n",
    "    for n in unchanged:\n",
    "        print(f\"  - {n}\")\n",
    "    print(f\"Total unchanged: {len(unchanged)} of {considered} considered\")\n"
   ]
  },
  {
   "cell_type": "code",
   "execution_count": 9,
   "id": "7c6dc6d6",
   "metadata": {},
   "outputs": [
    {
     "name": "stdout",
     "output_type": "stream",
     "text": [
      "Finetuning on CHAOS dataset in CT domain with 2d images \n",
      "Found explicit background class in input. Treating it separately.\n",
      "Non-background classes: ['Liver']\n",
      "🔄 Loading CLIPSeg weights...\n",
      "Frozen 150 CLIP text-encoder params (kept visual+head trainable).\n",
      "\n",
      "=== Parameters requiring grad: 206 ===\n",
      "\n",
      "=== Parameters frozen (no grad): 150===\n",
      "🚀 Starting training for 1 epochs\n",
      "   Device: cpu\n",
      "   Learning Rate: 0.001\n",
      "   Weight Decay: 1e-05\n",
      "   Trainable params: 206 of 356\n",
      "   Params: total=150,796,962, trainable=87,368,865\n",
      "   Batches: train=31, val=7\n",
      "   Tracking params:\n",
      "     - encoder.clipseg.clip_model.visual.transformer.resblocks.0.attn.out_proj.weight\n",
      "     - encoder.clipseg.clip_model.visual.transformer.resblocks.0.attn.out_proj.bias\n",
      "     - encoder.clipseg.clip_model.visual.transformer.resblocks.1.attn.out_proj.weight\n",
      "\n",
      "📖 Epoch 1/1\n",
      "   LR(s): 1.000000e-03\n",
      "🔄 Loading CLIPSeg weights...\n",
      "Frozen 150 CLIP text-encoder params (kept visual+head trainable).\n",
      "\n",
      "=== Parameters requiring grad: 206 ===\n",
      "\n",
      "=== Parameters frozen (no grad): 150===\n",
      "🚀 Starting training for 1 epochs\n",
      "   Device: cpu\n",
      "   Learning Rate: 0.001\n",
      "   Weight Decay: 1e-05\n",
      "   Trainable params: 206 of 356\n",
      "   Params: total=150,796,962, trainable=87,368,865\n",
      "   Batches: train=31, val=7\n",
      "   Tracking params:\n",
      "     - encoder.clipseg.clip_model.visual.transformer.resblocks.0.attn.out_proj.weight\n",
      "     - encoder.clipseg.clip_model.visual.transformer.resblocks.0.attn.out_proj.bias\n",
      "     - encoder.clipseg.clip_model.visual.transformer.resblocks.1.attn.out_proj.weight\n",
      "\n",
      "📖 Epoch 1/1\n",
      "   LR(s): 1.000000e-03\n"
     ]
    },
    {
     "name": "stderr",
     "output_type": "stream",
     "text": [
      "Training:   3%|▎         | 1/31 [00:04<02:24,  4.82s/it, Loss=1.1545]"
     ]
    },
    {
     "name": "stdout",
     "output_type": "stream",
     "text": [
      "[timer] batch 0: 2.248s\n"
     ]
    },
    {
     "name": "stderr",
     "output_type": "stream",
     "text": [
      "Training:   6%|▋         | 2/31 [00:07<01:49,  3.78s/it, Loss=1.1732]"
     ]
    },
    {
     "name": "stdout",
     "output_type": "stream",
     "text": [
      "[timer] batch 1: 2.396s\n"
     ]
    },
    {
     "name": "stderr",
     "output_type": "stream",
     "text": [
      "Training:  10%|▉         | 3/31 [00:10<01:29,  3.19s/it, Loss=1.1485]"
     ]
    },
    {
     "name": "stdout",
     "output_type": "stream",
     "text": [
      "[timer] batch 2: 1.732s\n"
     ]
    },
    {
     "name": "stderr",
     "output_type": "stream",
     "text": [
      "Training:  13%|█▎        | 4/31 [00:13<01:29,  3.31s/it, Loss=1.1178]"
     ]
    },
    {
     "name": "stdout",
     "output_type": "stream",
     "text": [
      "[timer] batch 3: 2.537s\n"
     ]
    },
    {
     "name": "stderr",
     "output_type": "stream",
     "text": [
      "Training:  16%|█▌        | 5/31 [00:16<01:23,  3.19s/it, Loss=1.0656]"
     ]
    },
    {
     "name": "stdout",
     "output_type": "stream",
     "text": [
      "[timer] batch 4: 1.883s\n"
     ]
    },
    {
     "name": "stderr",
     "output_type": "stream",
     "text": [
      "Training:  19%|█▉        | 6/31 [00:20<01:27,  3.49s/it, Loss=1.0344]"
     ]
    },
    {
     "name": "stdout",
     "output_type": "stream",
     "text": [
      "[timer] batch 5: 1.944s\n"
     ]
    },
    {
     "name": "stderr",
     "output_type": "stream",
     "text": [
      "Training:  23%|██▎       | 7/31 [00:24<01:23,  3.48s/it, Loss=1.0032]"
     ]
    },
    {
     "name": "stdout",
     "output_type": "stream",
     "text": [
      "[timer] batch 6: 2.356s\n"
     ]
    },
    {
     "name": "stderr",
     "output_type": "stream",
     "text": [
      "Training:  26%|██▌       | 8/31 [00:28<01:24,  3.69s/it, Loss=0.9832]"
     ]
    },
    {
     "name": "stdout",
     "output_type": "stream",
     "text": [
      "[timer] batch 7: 2.014s\n"
     ]
    },
    {
     "name": "stderr",
     "output_type": "stream",
     "text": [
      "Training:  29%|██▉       | 9/31 [00:31<01:16,  3.46s/it, Loss=0.9648]"
     ]
    },
    {
     "name": "stdout",
     "output_type": "stream",
     "text": [
      "[timer] batch 8: 2.161s\n"
     ]
    },
    {
     "name": "stderr",
     "output_type": "stream",
     "text": [
      "Training:  32%|███▏      | 10/31 [00:36<01:24,  4.00s/it, Loss=0.9481]"
     ]
    },
    {
     "name": "stdout",
     "output_type": "stream",
     "text": [
      "[timer] batch 9: 2.566s\n"
     ]
    },
    {
     "name": "stderr",
     "output_type": "stream",
     "text": [
      "Training:  35%|███▌      | 11/31 [00:51<02:23,  7.18s/it, Loss=0.9252]"
     ]
    },
    {
     "name": "stdout",
     "output_type": "stream",
     "text": [
      "[timer] batch 10: 13.246s\n"
     ]
    },
    {
     "name": "stderr",
     "output_type": "stream",
     "text": [
      "Training:  39%|███▊      | 12/31 [01:06<03:03,  9.67s/it, Loss=0.9201]"
     ]
    },
    {
     "name": "stdout",
     "output_type": "stream",
     "text": [
      "[timer] batch 11: 4.061s\n"
     ]
    },
    {
     "name": "stderr",
     "output_type": "stream",
     "text": [
      "Training:  42%|████▏     | 13/31 [01:09<02:20,  7.81s/it, Loss=0.9334]"
     ]
    },
    {
     "name": "stdout",
     "output_type": "stream",
     "text": [
      "[timer] batch 12: 2.164s\n"
     ]
    },
    {
     "name": "stderr",
     "output_type": "stream",
     "text": [
      "Training:  45%|████▌     | 14/31 [01:13<01:50,  6.51s/it, Loss=0.9348]"
     ]
    },
    {
     "name": "stdout",
     "output_type": "stream",
     "text": [
      "[timer] batch 13: 1.741s\n"
     ]
    },
    {
     "name": "stderr",
     "output_type": "stream",
     "text": [
      "Training:  48%|████▊     | 15/31 [01:16<01:26,  5.42s/it, Loss=0.9278]"
     ]
    },
    {
     "name": "stdout",
     "output_type": "stream",
     "text": [
      "[timer] batch 14: 1.990s\n"
     ]
    },
    {
     "name": "stderr",
     "output_type": "stream",
     "text": [
      "Training:  52%|█████▏    | 16/31 [01:18<01:08,  4.57s/it, Loss=0.8814]"
     ]
    },
    {
     "name": "stdout",
     "output_type": "stream",
     "text": [
      "[timer] batch 15: 1.879s\n"
     ]
    },
    {
     "name": "stderr",
     "output_type": "stream",
     "text": [
      "Training:  55%|█████▍    | 17/31 [01:21<00:56,  4.06s/it, Loss=0.8565]"
     ]
    },
    {
     "name": "stdout",
     "output_type": "stream",
     "text": [
      "[timer] batch 16: 1.947s\n"
     ]
    },
    {
     "name": "stderr",
     "output_type": "stream",
     "text": [
      "Training:  58%|█████▊    | 18/31 [01:25<00:50,  3.90s/it, Loss=0.8149]"
     ]
    },
    {
     "name": "stdout",
     "output_type": "stream",
     "text": [
      "[timer] batch 17: 2.517s\n"
     ]
    },
    {
     "name": "stderr",
     "output_type": "stream",
     "text": [
      "Training:  61%|██████▏   | 19/31 [01:30<00:50,  4.24s/it, Loss=0.8194]"
     ]
    },
    {
     "name": "stdout",
     "output_type": "stream",
     "text": [
      "[timer] batch 18: 2.372s\n"
     ]
    },
    {
     "name": "stderr",
     "output_type": "stream",
     "text": [
      "Training:  65%|██████▍   | 20/31 [01:33<00:41,  3.77s/it, Loss=0.8195]"
     ]
    },
    {
     "name": "stdout",
     "output_type": "stream",
     "text": [
      "[timer] batch 19: 1.899s\n"
     ]
    },
    {
     "name": "stderr",
     "output_type": "stream",
     "text": [
      "Training:  68%|██████▊   | 21/31 [01:35<00:34,  3.43s/it, Loss=0.8352]"
     ]
    },
    {
     "name": "stdout",
     "output_type": "stream",
     "text": [
      "[timer] batch 20: 1.876s\n"
     ]
    },
    {
     "name": "stderr",
     "output_type": "stream",
     "text": [
      "Training:  71%|███████   | 22/31 [01:39<00:30,  3.39s/it, Loss=0.8281]"
     ]
    },
    {
     "name": "stdout",
     "output_type": "stream",
     "text": [
      "[timer] batch 21: 2.278s\n"
     ]
    },
    {
     "name": "stderr",
     "output_type": "stream",
     "text": [
      "Training:  74%|███████▍  | 23/31 [01:42<00:26,  3.34s/it, Loss=0.8279]"
     ]
    },
    {
     "name": "stdout",
     "output_type": "stream",
     "text": [
      "[timer] batch 22: 1.883s\n"
     ]
    },
    {
     "name": "stderr",
     "output_type": "stream",
     "text": [
      "Training:  77%|███████▋  | 24/31 [01:58<00:51,  7.32s/it, Loss=0.8208]"
     ]
    },
    {
     "name": "stdout",
     "output_type": "stream",
     "text": [
      "[timer] batch 23: 12.307s\n"
     ]
    },
    {
     "name": "stderr",
     "output_type": "stream",
     "text": [
      "Training:  81%|████████  | 25/31 [02:08<00:48,  8.07s/it, Loss=0.8183]"
     ]
    },
    {
     "name": "stdout",
     "output_type": "stream",
     "text": [
      "[timer] batch 24: 2.476s\n"
     ]
    },
    {
     "name": "stderr",
     "output_type": "stream",
     "text": [
      "Training:  84%|████████▍ | 26/31 [02:11<00:32,  6.47s/it, Loss=0.8106]"
     ]
    },
    {
     "name": "stdout",
     "output_type": "stream",
     "text": [
      "[timer] batch 25: 1.864s\n"
     ]
    },
    {
     "name": "stderr",
     "output_type": "stream",
     "text": [
      "Training:  87%|████████▋ | 27/31 [02:14<00:21,  5.36s/it, Loss=0.8039]"
     ]
    },
    {
     "name": "stdout",
     "output_type": "stream",
     "text": [
      "[timer] batch 26: 2.107s\n"
     ]
    },
    {
     "name": "stderr",
     "output_type": "stream",
     "text": [
      "Training:  90%|█████████ | 28/31 [02:16<00:13,  4.56s/it, Loss=0.7980]"
     ]
    },
    {
     "name": "stdout",
     "output_type": "stream",
     "text": [
      "[timer] batch 27: 1.802s\n"
     ]
    },
    {
     "name": "stderr",
     "output_type": "stream",
     "text": [
      "Training:  94%|█████████▎| 29/31 [02:19<00:08,  4.08s/it, Loss=0.7848]"
     ]
    },
    {
     "name": "stdout",
     "output_type": "stream",
     "text": [
      "[timer] batch 28: 1.820s\n"
     ]
    },
    {
     "name": "stderr",
     "output_type": "stream",
     "text": [
      "Training:  97%|█████████▋| 30/31 [02:23<00:03,  3.84s/it, Loss=0.7771]"
     ]
    },
    {
     "name": "stdout",
     "output_type": "stream",
     "text": [
      "[timer] batch 29: 1.879s\n"
     ]
    },
    {
     "name": "stderr",
     "output_type": "stream",
     "text": [
      "Training: 100%|██████████| 31/31 [02:26<00:00,  4.73s/it, Loss=0.7697]\n",
      "Training: 100%|██████████| 31/31 [02:26<00:00,  4.73s/it, Loss=0.7697]\n"
     ]
    },
    {
     "name": "stdout",
     "output_type": "stream",
     "text": [
      "[timer] batch 30: 2.092s\n",
      "Epoch 1 - Train Loss: 0.9002\n",
      "   Param norm deltas (after epoch):\n",
      "     encoder.clipseg.clip_model.visual.transformer.resblocks.0.attn.out_proj.weight: Δnorm=+1.373188e+00 (before=8.586586e+00, after=9.959774e+00)\n",
      "     encoder.clipseg.clip_model.visual.transformer.resblocks.0.attn.out_proj.bias: Δnorm=+1.146293e-02 (before=1.183554e+00, after=1.195017e+00)\n",
      "     encoder.clipseg.clip_model.visual.transformer.resblocks.1.attn.out_proj.weight: Δnorm=+1.150630e+00 (before=8.633878e+00, after=9.784508e+00)\n",
      "   Grad non-zero in batches: 31/31 (100.0%)\n",
      "   Labels seen this epoch: [0, 1]\n"
     ]
    },
    {
     "name": "stderr",
     "output_type": "stream",
     "text": [
      "Validating:   0%|          | 0/7 [00:00<?, ?it/s]"
     ]
    },
    {
     "data": {
      "image/png": "[encoded data removed]",
      "text/plain": [
       "<Figure size 1200x400 with 3 Axes>"
      ]
     },
     "metadata": {},
     "output_type": "display_data"
    },
    {
     "name": "stderr",
     "output_type": "stream",
     "text": [
      "Validating:  14%|█▍        | 1/7 [00:02<00:16,  2.67s/it]\n",
      "\n"
     ]
    },
    {
     "name": "stdout",
     "output_type": "stream",
     "text": [
      "Epoch 1 - Val Loss: 0.7656\n",
      "   New best Val Loss: 0.7656\n",
      "\n",
      "✅ Training completed!\n",
      "\n",
      "=== Parameters unchanged after finetuning ===\n",
      "  - encoder.clipseg.clip_model.visual.proj\n",
      "  - encoder.clipseg.clip_model.visual.transformer.resblocks.10.attn.in_proj_weight\n",
      "  - encoder.clipseg.clip_model.visual.transformer.resblocks.10.attn.in_proj_bias\n",
      "  - encoder.clipseg.clip_model.visual.transformer.resblocks.10.attn.out_proj.weight\n",
      "  - encoder.clipseg.clip_model.visual.transformer.resblocks.10.attn.out_proj.bias\n",
      "  - encoder.clipseg.clip_model.visual.transformer.resblocks.10.ln_1.weight\n",
      "  - encoder.clipseg.clip_model.visual.transformer.resblocks.10.ln_1.bias\n",
      "  - encoder.clipseg.clip_model.visual.transformer.resblocks.10.mlp.c_fc.weight\n",
      "  - encoder.clipseg.clip_model.visual.transformer.resblocks.10.mlp.c_fc.bias\n",
      "  - encoder.clipseg.clip_model.visual.transformer.resblocks.10.mlp.c_proj.weight\n",
      "  - encoder.clipseg.clip_model.visual.transformer.resblocks.10.mlp.c_proj.bias\n",
      "  - encoder.clipseg.clip_model.visual.transformer.resblocks.10.ln_2.weight\n",
      "  - encoder.clipseg.clip_model.visual.transformer.resblocks.10.ln_2.bias\n",
      "  - encoder.clipseg.clip_model.visual.transformer.resblocks.11.attn.in_proj_weight\n",
      "  - encoder.clipseg.clip_model.visual.transformer.resblocks.11.attn.in_proj_bias\n",
      "  - encoder.clipseg.clip_model.visual.transformer.resblocks.11.attn.out_proj.weight\n",
      "  - encoder.clipseg.clip_model.visual.transformer.resblocks.11.attn.out_proj.bias\n",
      "  - encoder.clipseg.clip_model.visual.transformer.resblocks.11.ln_1.weight\n",
      "  - encoder.clipseg.clip_model.visual.transformer.resblocks.11.ln_1.bias\n",
      "  - encoder.clipseg.clip_model.visual.transformer.resblocks.11.mlp.c_fc.weight\n",
      "  - encoder.clipseg.clip_model.visual.transformer.resblocks.11.mlp.c_fc.bias\n",
      "  - encoder.clipseg.clip_model.visual.transformer.resblocks.11.mlp.c_proj.weight\n",
      "  - encoder.clipseg.clip_model.visual.transformer.resblocks.11.mlp.c_proj.bias\n",
      "  - encoder.clipseg.clip_model.visual.transformer.resblocks.11.ln_2.weight\n",
      "  - encoder.clipseg.clip_model.visual.transformer.resblocks.11.ln_2.bias\n",
      "  - encoder.clipseg.clip_model.visual.ln_post.weight\n",
      "  - encoder.clipseg.clip_model.visual.ln_post.bias\n",
      "  - encoder.clipseg.reduce.weight\n",
      "  - encoder.clipseg.reduce.bias\n",
      "Total unchanged: 29 of 206 considered\n",
      "\n",
      "✅ Training completed!\n",
      "\n",
      "=== Parameters unchanged after finetuning ===\n",
      "  - encoder.clipseg.clip_model.visual.proj\n",
      "  - encoder.clipseg.clip_model.visual.transformer.resblocks.10.attn.in_proj_weight\n",
      "  - encoder.clipseg.clip_model.visual.transformer.resblocks.10.attn.in_proj_bias\n",
      "  - encoder.clipseg.clip_model.visual.transformer.resblocks.10.attn.out_proj.weight\n",
      "  - encoder.clipseg.clip_model.visual.transformer.resblocks.10.attn.out_proj.bias\n",
      "  - encoder.clipseg.clip_model.visual.transformer.resblocks.10.ln_1.weight\n",
      "  - encoder.clipseg.clip_model.visual.transformer.resblocks.10.ln_1.bias\n",
      "  - encoder.clipseg.clip_model.visual.transformer.resblocks.10.mlp.c_fc.weight\n",
      "  - encoder.clipseg.clip_model.visual.transformer.resblocks.10.mlp.c_fc.bias\n",
      "  - encoder.clipseg.clip_model.visual.transformer.resblocks.10.mlp.c_proj.weight\n",
      "  - encoder.clipseg.clip_model.visual.transformer.resblocks.10.mlp.c_proj.bias\n",
      "  - encoder.clipseg.clip_model.visual.transformer.resblocks.10.ln_2.weight\n",
      "  - encoder.clipseg.clip_model.visual.transformer.resblocks.10.ln_2.bias\n",
      "  - encoder.clipseg.clip_model.visual.transformer.resblocks.11.attn.in_proj_weight\n",
      "  - encoder.clipseg.clip_model.visual.transformer.resblocks.11.attn.in_proj_bias\n",
      "  - encoder.clipseg.clip_model.visual.transformer.resblocks.11.attn.out_proj.weight\n",
      "  - encoder.clipseg.clip_model.visual.transformer.resblocks.11.attn.out_proj.bias\n",
      "  - encoder.clipseg.clip_model.visual.transformer.resblocks.11.ln_1.weight\n",
      "  - encoder.clipseg.clip_model.visual.transformer.resblocks.11.ln_1.bias\n",
      "  - encoder.clipseg.clip_model.visual.transformer.resblocks.11.mlp.c_fc.weight\n",
      "  - encoder.clipseg.clip_model.visual.transformer.resblocks.11.mlp.c_fc.bias\n",
      "  - encoder.clipseg.clip_model.visual.transformer.resblocks.11.mlp.c_proj.weight\n",
      "  - encoder.clipseg.clip_model.visual.transformer.resblocks.11.mlp.c_proj.bias\n",
      "  - encoder.clipseg.clip_model.visual.transformer.resblocks.11.ln_2.weight\n",
      "  - encoder.clipseg.clip_model.visual.transformer.resblocks.11.ln_2.bias\n",
      "  - encoder.clipseg.clip_model.visual.ln_post.weight\n",
      "  - encoder.clipseg.clip_model.visual.ln_post.bias\n",
      "  - encoder.clipseg.reduce.weight\n",
      "  - encoder.clipseg.reduce.bias\n",
      "Total unchanged: 29 of 206 considered\n"
     ]
    }
   ],
   "source": [
    "# Finetuning loop\n",
    "\n",
    "for (dataset_name, domain), epochs in TRAINING_EPOCHS.items():\n",
    "    download_and_extract_dataset(dataset_name, DATA_PATH)\n",
    "\n",
    "    image_transform, seg_transform = get_preprocessing(\n",
    "        dataset_name, domain, is_training=True\n",
    "    )\n",
    "\n",
    "    print(\n",
    "        f\"Finetuning on {dataset_name} dataset in {domain} domain with {'3d' if USE_3D else '2d'} images \"\n",
    "    )\n",
    "    dataset: BaseDataset = get_dataset(\n",
    "        dataset_name=dataset_name,\n",
    "        domain=domain,\n",
    "        transform=image_transform,  # Use transform instead of preprocess\n",
    "        seg_transform=seg_transform,  # Pass seg_transform too\n",
    "        base_path=DATA_PATH,\n",
    "        batch_size=BATCH_SIZE,\n",
    "        num_workers=0,\n",
    "        slice_2d=not USE_3D,\n",
    "        # new cache knobs\n",
    "        cache_max_items=CACHE_MAX_ITEMS,\n",
    "        enable_cache=ENABLE_CACHE,\n",
    "    )\n",
    "\n",
    "    #  Ensure the dataset is loaded correctly\n",
    "    if not isinstance(dataset, BaseDataset):\n",
    "        raise TypeError(\n",
    "            f\"Expected dataset to be an instance of BaseDataset, got {type(dataset)}\"\n",
    "        )\n",
    "\n",
    "    model = dataset.get_model(\n",
    "        encoder_type=encoder_type,\n",
    "    )\n",
    "\n",
    "    # Unfreeze everything, then freeze CLIP text encoder (we cache text embeddings -> no grads)\n",
    "    model.unfreeze()\n",
    "    if encoder_type == \"clipseg\":\n",
    "        model.freeze_text_encoder()\n",
    "\n",
    "    # for p in model.encoder.clipseg.model.parameters():\n",
    "    #     p.requires_grad_(True)\n",
    "\n",
    "\n",
    "    # Print grad status before finetuning (after final freeze mask)\n",
    "    print_grad_status(model)\n",
    "\n",
    "    # Snapshot parameters before finetuning (after setting requires_grad correctly)\n",
    "    before_snapshot = snapshot_parameters(model)\n",
    "\n",
    "    history = model.finetune(\n",
    "        epochs=1,\n",
    "        learning_rate=LEARNING_RATE,\n",
    "        weight_decay=WEIGHT_DECAY,\n",
    "        val_max_batches=1,\n",
    "        fast_val_metrics=True,\n",
    "        debug=DEBUG\n",
    "    )\n",
    "\n",
    "    # Print parameters that didn't change after finetuning (only those requiring grad)\n",
    "    print_unchanged_parameters(model, before_snapshot, only_requires_grad=True)"
   ]
  }
 ],
 "metadata": {
  "kernelspec": {
   "display_name": ".venv",
   "language": "python",
   "name": "python3"
  },
  "language_info": {
   "codemirror_mode": {
    "name": "ipython",
    "version": 3
   },
   "file_extension": ".py",
   "mimetype": "text/x-python",
   "name": "python",
   "nbconvert_exporter": "python",
   "pygments_lexer": "ipython3",
   "version": "3.12.10"
  }
 },
 "nbformat": 4,
 "nbformat_minor": 5
}
