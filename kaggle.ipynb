{
 "cells": [
  {
   "cell_type": "code",
   "execution_count": null,
   "id": "79dc085a",
   "metadata": {},
   "outputs": [],
   "source": [
    "from src.utils import finetune, get_dataset, get_classification_head, get_baseline_encoder\n",
    "from src.modeling import Classifier\n",
    "from monai.data import DataLoader\n",
    "from pathlib import Path\n",
    "import torch\n",
    "from src.evaluation import evaluate_segmentation_performance\n"
   ]
  },
  {
   "cell_type": "code",
   "execution_count": 6,
   "id": "e5cba54d",
   "metadata": {},
   "outputs": [],
   "source": [
    "dataset_names = [\"CHAOS\"]\n",
    "domains = [\"CT\", \"MRI\"]\n",
    "save_path = \"checkpoints/\""
   ]
  },
  {
   "cell_type": "code",
   "execution_count": 7,
   "id": "a0801709",
   "metadata": {},
   "outputs": [
    {
     "name": "stderr",
     "output_type": "stream",
     "text": [
      "Loading dataset: 100%|██████████| 20/20 [00:00<00:00, 332881.27it/s]\n",
      "Loading dataset: 100%|██████████| 20/20 [00:00<00:00, 350987.78it/s]\n"
     ]
    }
   ],
   "source": [
    "datasets = {(name, domain): get_dataset(name, domain) for name in dataset_names for domain in domains}"
   ]
  },
  {
   "cell_type": "code",
   "execution_count": null,
   "id": "04881786",
   "metadata": {},
   "outputs": [],
   "source": [
    "# Baseline evaluation loop\n",
    "\n",
    "encoder = get_baseline_encoder(save_path)\n",
    "for dataset_name in [\"CHAOS\",]:\n",
    "    for domain in domains:\n",
    "        filename = Path(save_path) / f\"{dataset_name}_{domain}_baseline.pth\"\n",
    "        dataloader = DataLoader(datasets[(dataset_name, domain)], batch_size=1, shuffle=False, num_workers=4)\n",
    "\n",
    "        # Initialize the classifier\n",
    "        classification_head = get_classification_head(dataset_name, domain)\n",
    "        classifier = Classifier(encoder, classification_head)\n",
    "\n",
    "        dice, hauseldorff = evaluate_segmentation_performance(dataloader, classifier)\n"
   ]
  },
  {
   "cell_type": "code",
   "execution_count": null,
   "id": "c69a17e2",
   "metadata": {},
   "outputs": [
    {
     "name": "stdout",
     "output_type": "stream",
     "text": [
      "Finetuning on CHAOS dataset in CT domain\n"
     ]
    },
    {
     "name": "stderr",
     "output_type": "stream",
     "text": [
      "Loading dataset: 100%|██████████| 20/20 [00:00<00:00, 86302.55it/s]\n"
     ]
    },
    {
     "name": "stdout",
     "output_type": "stream",
     "text": [
      "Finetuning on CHAOS dataset in MRI domain\n"
     ]
    },
    {
     "name": "stderr",
     "output_type": "stream",
     "text": [
      "Loading dataset: 100%|██████████| 20/20 [00:00<00:00, 167772.16it/s]\n"
     ]
    },
    {
     "name": "stdout",
     "output_type": "stream",
     "text": [
      "Finetuning on MM-WHS dataset in CT domain\n",
      "Extracting data/MM-WHS/MM-WHS 2017 Dataset.zip to data/MM-WHS/MM-WHS 2017 Dataset...\n",
      "Extracting data/MM-WHS/MMWHS_evaluation_testdata_label_encrypt_1mm_forpublic.zip to data/MM-WHS/MMWHS_evaluation_testdata_label_encrypt_1mm_forpublic...\n"
     ]
    },
    {
     "ename": "NotImplementedError",
     "evalue": "Dataset MM-WHS is not implemented.",
     "output_type": "error",
     "traceback": [
      "\u001b[31m---------------------------------------------------------------------------\u001b[39m",
      "\u001b[31mNotImplementedError\u001b[39m                       Traceback (most recent call last)",
      "\u001b[36mCell\u001b[39m\u001b[36m \u001b[39m\u001b[32mIn[3]\u001b[39m\u001b[32m, line 6\u001b[39m\n\u001b[32m      4\u001b[39m \u001b[38;5;28;01mfor\u001b[39;00m domain \u001b[38;5;129;01min\u001b[39;00m domains:\n\u001b[32m      5\u001b[39m     \u001b[38;5;28mprint\u001b[39m(\u001b[33mf\u001b[39m\u001b[33m\"\u001b[39m\u001b[33mFinetuning on \u001b[39m\u001b[38;5;132;01m{\u001b[39;00mdataset_name\u001b[38;5;132;01m}\u001b[39;00m\u001b[33m dataset in \u001b[39m\u001b[38;5;132;01m{\u001b[39;00mdomain\u001b[38;5;132;01m}\u001b[39;00m\u001b[33m domain\u001b[39m\u001b[33m\"\u001b[39m)\n\u001b[32m----> \u001b[39m\u001b[32m6\u001b[39m     dataset = \u001b[43mget_dataset\u001b[49m\u001b[43m(\u001b[49m\u001b[43mdataset_name\u001b[49m\u001b[43m,\u001b[49m\u001b[43m \u001b[49m\u001b[43mdomain\u001b[49m\u001b[43m,\u001b[49m\u001b[43m \u001b[49m\u001b[43mis_train\u001b[49m\u001b[43m=\u001b[49m\u001b[38;5;28;43;01mTrue\u001b[39;49;00m\u001b[43m,\u001b[49m\u001b[43mbase_path\u001b[49m\u001b[43m \u001b[49m\u001b[43m=\u001b[49m\u001b[43m \u001b[49m\u001b[33;43m\"\u001b[39;49m\u001b[33;43mdata/\u001b[39;49m\u001b[33;43m\"\u001b[39;49m\u001b[43m)\u001b[49m\n\u001b[32m      7\u001b[39m     loader = DataLoader(dataset, batch_size=\u001b[32m32\u001b[39m, shuffle=\u001b[38;5;28;01mTrue\u001b[39;00m)\n\u001b[32m      8\u001b[39m     \u001b[38;5;66;03m# encoder = # Base pretrained encoder model\u001b[39;00m\n\u001b[32m      9\u001b[39m     \u001b[38;5;66;03m# head = get_classification_head(dataset_name, domain)\u001b[39;00m\n\u001b[32m     10\u001b[39m     \u001b[38;5;66;03m# model = Classifier(encoder, head)\u001b[39;00m\n\u001b[32m     11\u001b[39m     \u001b[38;5;66;03m# tuned_model = finetune(model, loader, save_path)\u001b[39;00m\n",
      "\u001b[36mFile \u001b[39m\u001b[32m~/Documents/Magistrale/Anno2_Semestre2/Explainable_and_Trustworthy_AI/project/src/utils.py:148\u001b[39m, in \u001b[36mget_dataset\u001b[39m\u001b[34m(dataset_name, domain, is_train, base_path)\u001b[39m\n\u001b[32m    146\u001b[39m     \u001b[38;5;28;01mreturn\u001b[39;00m CHAOSDataset(base_path=dataset_path, domain=domain, split=split)\n\u001b[32m    147\u001b[39m \u001b[38;5;28;01mcase\u001b[39;00m \u001b[33m\"\u001b[39m\u001b[33mMM-WHS\u001b[39m\u001b[33m\"\u001b[39m:\n\u001b[32m--> \u001b[39m\u001b[32m148\u001b[39m     \u001b[38;5;28;01mraise\u001b[39;00m \u001b[38;5;167;01mNotImplementedError\u001b[39;00m(\u001b[33mf\u001b[39m\u001b[33m\"\u001b[39m\u001b[33mDataset \u001b[39m\u001b[38;5;132;01m{\u001b[39;00mdataset_name\u001b[38;5;132;01m}\u001b[39;00m\u001b[33m is not implemented.\u001b[39m\u001b[33m\"\u001b[39m)\n\u001b[32m    149\u001b[39m \u001b[38;5;28;01mcase\u001b[39;00m\u001b[38;5;250m \u001b[39m\u001b[38;5;28;01m_\u001b[39;00m:\n\u001b[32m    150\u001b[39m     \u001b[38;5;28;01mraise\u001b[39;00m \u001b[38;5;167;01mValueError\u001b[39;00m(\u001b[33mf\u001b[39m\u001b[33m\"\u001b[39m\u001b[33mUnknown dataset: \u001b[39m\u001b[38;5;132;01m{\u001b[39;00mdataset_name\u001b[38;5;132;01m}\u001b[39;00m\u001b[33m\"\u001b[39m)\n",
      "\u001b[31mNotImplementedError\u001b[39m: Dataset MM-WHS is not implemented."
     ]
    }
   ],
   "source": [
    "# Finetuning loop\n",
    "\n",
    "for dataset_name in dataset_names:\n",
    "    for domain in domains:\n",
    "        print(f\"Finetuning on {dataset_name} dataset in {domain} domain\")\n",
    "        dataset = get_dataset(dataset_name, domain, is_train=True,base_path = \"data/\")\n",
    "        loader = DataLoader(dataset, batch_size=32, shuffle=True)\n",
    "        # encoder = # Base pretrained encoder model\n",
    "        # head = get_classification_head(dataset_name, domain)\n",
    "        # model = Classifier(encoder, head)\n",
    "        # tuned_model = finetune(model, loader, save_path)"
   ]
  }
 ],
 "metadata": {
  "kernelspec": {
   "display_name": ".venv",
   "language": "python",
   "name": "python3"
  },
  "language_info": {
   "codemirror_mode": {
    "name": "ipython",
    "version": 3
   },
   "file_extension": ".py",
   "mimetype": "text/x-python",
   "name": "python",
   "nbconvert_exporter": "python",
   "pygments_lexer": "ipython3",
   "version": "3.11.12"
  }
 },
 "nbformat": 4,
 "nbformat_minor": 5
}
