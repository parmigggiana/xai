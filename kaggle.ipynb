{
 "cells": [
  {
   "cell_type": "code",
   "execution_count": 2,
   "id": "79dc085a",
   "metadata": {},
   "outputs": [],
   "source": [
    "from src.utils import finetune, get_dataset, get_classification_head, get_baseline_encoder\n",
    "from src.modeling import Classifier\n",
    "from monai.data import DataLoader\n",
    "from pathlib import Path\n",
    "import torch\n",
    "from src.evaluation import evaluate_segmentation_performance\n"
   ]
  },
  {
   "cell_type": "code",
   "execution_count": null,
   "id": "e5cba54d",
   "metadata": {},
   "outputs": [],
   "source": [
    "dataset_names = [\"CHAOS\", \"MM-WHS\"]\n",
    "domains = [\"CT\", \"MRI\"]\n",
    "save_path = \"checkpoints/\""
   ]
  },
  {
   "cell_type": "code",
   "execution_count": null,
   "id": "a0801709",
   "metadata": {},
   "outputs": [],
   "source": [
    "datasets = {(name, domain): get_dataset(name, domain) for name in dataset_names for domain in domains}"
   ]
  },
  {
   "cell_type": "code",
   "execution_count": 5,
   "id": "04881786",
   "metadata": {},
   "outputs": [
    {
     "ename": "TypeError",
     "evalue": "ResNet.__init__() missing 1 required positional argument: 'layers'",
     "output_type": "error",
     "traceback": [
      "\u001b[31m---------------------------------------------------------------------------\u001b[39m",
      "\u001b[31mTypeError\u001b[39m                                 Traceback (most recent call last)",
      "\u001b[36mCell\u001b[39m\u001b[36m \u001b[39m\u001b[32mIn[5]\u001b[39m\u001b[32m, line 3\u001b[39m\n\u001b[32m      1\u001b[39m \u001b[38;5;66;03m# Baseline evaluation loop\u001b[39;00m\n\u001b[32m----> \u001b[39m\u001b[32m3\u001b[39m encoder = \u001b[43mget_baseline_encoder\u001b[49m\u001b[43m(\u001b[49m\u001b[43msave_path\u001b[49m\u001b[43m)\u001b[49m\n\u001b[32m      4\u001b[39m \u001b[38;5;28;01mfor\u001b[39;00m dataset_name \u001b[38;5;129;01min\u001b[39;00m [\u001b[33m\"\u001b[39m\u001b[33mCHAOS\u001b[39m\u001b[33m\"\u001b[39m,]:\n\u001b[32m      5\u001b[39m     \u001b[38;5;28;01mfor\u001b[39;00m domain \u001b[38;5;129;01min\u001b[39;00m domains:\n",
      "\u001b[36mFile \u001b[39m\u001b[32m~/Scrivania/xai/src/utils.py:253\u001b[39m, in \u001b[36mget_baseline_encoder\u001b[39m\u001b[34m(base_path, depth)\u001b[39m\n\u001b[32m    242\u001b[39m \u001b[38;5;250m\u001b[39m\u001b[33;03m\"\"\"\u001b[39;00m\n\u001b[32m    243\u001b[39m \u001b[33;03mGet the baseline encoder for the model.\u001b[39;00m\n\u001b[32m    244\u001b[39m \n\u001b[32m   (...)\u001b[39m\u001b[32m    249\u001b[39m \u001b[33;03m    torch.nn.Module: Baseline encoder.\u001b[39;00m\n\u001b[32m    250\u001b[39m \u001b[33;03m\"\"\"\u001b[39;00m\n\u001b[32m    252\u001b[39m encoder_path = Path(base_path) / \u001b[33mf\u001b[39m\u001b[33m\"\u001b[39m\u001b[33mbaseline_\u001b[39m\u001b[38;5;132;01m{\u001b[39;00mdepth\u001b[38;5;132;01m}\u001b[39;00m\u001b[33m.pth\u001b[39m\u001b[33m\"\u001b[39m\n\u001b[32m--> \u001b[39m\u001b[32m253\u001b[39m encoder = \u001b[43mResNet\u001b[49m\u001b[43m(\u001b[49m\u001b[43mdepth\u001b[49m\u001b[43m)\u001b[49m\n\u001b[32m    255\u001b[39m \u001b[38;5;28;01mif\u001b[39;00m encoder_path.exists():\n\u001b[32m    256\u001b[39m     state_dict = torch.load(encoder_path, map_location=\u001b[33m\"\u001b[39m\u001b[33mcpu\u001b[39m\u001b[33m\"\u001b[39m)\n",
      "\u001b[31mTypeError\u001b[39m: ResNet.__init__() missing 1 required positional argument: 'layers'"
     ]
    }
   ],
   "source": [
    "# Baseline evaluation loop\n",
    "\n",
    "encoder = get_baseline_encoder(save_path)\n",
    "for dataset_name in [\"CHAOS\",]:\n",
    "    for domain in domains:\n",
    "        filename = Path(save_path) / f\"{dataset_name}_{domain}_baseline.pth\"\n",
    "        dataloader = DataLoader(datasets[(dataset_name, domain)], batch_size=1, shuffle=False, num_workers=4)\n",
    "\n",
    "        # Initialize the classifier\n",
    "        classification_head = get_classification_head(dataset_name, domain)\n",
    "        classifier = Classifier(encoder, classification_head)\n",
    "\n",
    "        dice, hauseldorff = evaluate_segmentation_performance(dataloader, classifier)\n"
   ]
  },
  {
   "cell_type": "code",
   "execution_count": null,
   "id": "c69a17e2",
   "metadata": {},
   "outputs": [
    {
     "ename": "NameError",
     "evalue": "name 'dataset_names' is not defined",
     "output_type": "error",
     "traceback": [
      "\u001b[31m---------------------------------------------------------------------------\u001b[39m",
      "\u001b[31mNameError\u001b[39m                                 Traceback (most recent call last)",
      "\u001b[36mCell\u001b[39m\u001b[36m \u001b[39m\u001b[32mIn[1]\u001b[39m\u001b[32m, line 3\u001b[39m\n\u001b[32m      1\u001b[39m \u001b[38;5;66;03m# Finetuning loop\u001b[39;00m\n\u001b[32m----> \u001b[39m\u001b[32m3\u001b[39m \u001b[38;5;28;01mfor\u001b[39;00m dataset_name \u001b[38;5;129;01min\u001b[39;00m \u001b[43mdataset_names\u001b[49m:\n\u001b[32m      4\u001b[39m     \u001b[38;5;28;01mfor\u001b[39;00m domain \u001b[38;5;129;01min\u001b[39;00m domains:\n\u001b[32m      5\u001b[39m         \u001b[38;5;28mprint\u001b[39m(\u001b[33mf\u001b[39m\u001b[33m\"\u001b[39m\u001b[33mFinetuning on \u001b[39m\u001b[38;5;132;01m{\u001b[39;00mdataset_name\u001b[38;5;132;01m}\u001b[39;00m\u001b[33m dataset in \u001b[39m\u001b[38;5;132;01m{\u001b[39;00mdomain\u001b[38;5;132;01m}\u001b[39;00m\u001b[33m domain\u001b[39m\u001b[33m\"\u001b[39m)\n",
      "\u001b[31mNameError\u001b[39m: name 'dataset_names' is not defined"
     ]
    }
   ],
   "source": [
    "# Finetuning loop\n",
    "\n",
    "for dataset_name in dataset_names:\n",
    "    for domain in domains:\n",
    "        print(f\"Finetuning on {dataset_name} dataset in {domain} domain\")\n",
    "        dataset = get_dataset(dataset_name, domain, is_train=True,base_path = \"data/\")\n",
    "        loader = DataLoader(dataset, batch_size=32, shuffle=True)\n",
    "        # encoder = # Base pretrained encoder model\n",
    "        # head = get_classification_head(dataset_name, domain)\n",
    "        # model = Classifier(encoder, head)\n",
    "        # tuned_model = finetune(model, loader, save_path)"
   ]
  }
 ],
 "metadata": {
  "kernelspec": {
   "display_name": ".venv",
   "language": "python",
   "name": "python3"
  },
  "language_info": {
   "codemirror_mode": {
    "name": "ipython",
    "version": 3
   },
   "file_extension": ".py",
   "mimetype": "text/x-python",
   "name": "python",
   "nbconvert_exporter": "python",
   "pygments_lexer": "ipython3",
   "version": "3.12.10"
  }
 },
 "nbformat": 4,
 "nbformat_minor": 5
}
