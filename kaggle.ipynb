{
 "cells": [
  {
   "cell_type": "code",
   "execution_count": null,
   "id": "c71cd1f6",
   "metadata": {},
   "outputs": [],
   "source": [
    "from src.utils import finetune, get_dataset, get_classification_head\n",
    "from src.modeling import Classifier\n",
    "from monai.data import DataLoader"
   ]
  },
  {
   "cell_type": "code",
   "execution_count": null,
   "id": "e5cba54d",
   "metadata": {},
   "outputs": [],
   "source": [
    "datasets = [\"CHAOS\", \"APIS\", \"MM-WHS\"]\n",
    "domains = [\"CT\", \"MR\"]\n",
    "save_path = \"checkpoint/\""
   ]
  },
  {
   "cell_type": "code",
   "execution_count": null,
   "id": "c69a17e2",
   "metadata": {},
   "outputs": [],
   "source": [
    "# Finetuning loop\n",
    "\n",
    "for dataset_name in datasets:\n",
    "    for domain in domains:\n",
    "        print(f\"Finetuning on {dataset_name} dataset in {domain} domain\")\n",
    "        dataset = get_dataset(dataset_name, domain, is_train=True)\n",
    "        loader = DataLoader(dataset, batch_size=32, shuffle=True)\n",
    "        encoder = # Base pretrained encoder model\n",
    "        head = get_classification_head(dataset_name, domain)\n",
    "        model = Classifier(encoder, head)\n",
    "        tuned_model = finetune(model, loader, save_path)"
   ]
  }
 ],
 "metadata": {
  "kernelspec": {
   "display_name": ".venv",
   "language": "python",
   "name": "python3"
  },
  "language_info": {
   "codemirror_mode": {
    "name": "ipython",
    "version": 3
   },
   "file_extension": ".py",
   "mimetype": "text/x-python",
   "name": "python",
   "nbconvert_exporter": "python",
   "pygments_lexer": "ipython3",
   "version": "3.11.12"
  }
 },
 "nbformat": 4,
 "nbformat_minor": 5
}
