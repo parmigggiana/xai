{
 "cells": [
  {
   "cell_type": "markdown",
   "id": "b07eff45",
   "metadata": {},
   "source": [
    "# Dataset Sample Visualization\n",
    "\n",
    "This notebook demonstrates how to download the mm-whs, apis, or CHAOS datasets on Kaggle, load them with MONAI transforms, and visualize a single volumetric sample."
   ]
  },
  {
   "cell_type": "code",
   "execution_count": null,
   "id": "45567dc9",
   "metadata": {},
   "outputs": [],
   "source": [
    "!pip install -q monai matplotlib kaggle"
   ]
  },
  {
   "cell_type": "code",
   "execution_count": null,
   "id": "a5d746f0",
   "metadata": {},
   "outputs": [],
   "source": [
    "import os\n",
    "import glob\n",
    "import matplotlib.pyplot as plt\n",
    "import torch\n",
    "from monai.transforms import Compose, LoadImaged, AddChanneld, ScaleIntensityd, EnsureTyped\n",
    "from monai.data import CacheDataset, DataLoader\n",
    "from monai_project.interface import visualize_sample"
   ]
  },
  {
   "cell_type": "code",
   "execution_count": null,
   "id": "9e48f74d",
   "metadata": {},
   "outputs": [],
   "source": [
    "# Select dataset: one of 'CHAOS', 'MMWHS', 'APIS'\n",
    "DATASET = 'CHAOS'\n",
    "if DATASET == 'CHAOS':\n",
    "    !kaggle datasets download -q thewilliamraisely/chaos-mri -f chaos_mri.zip\n",
    "    !unzip -q chaos_mri.zip -d chaos\n",
    "    data_dir = 'chaos'\n",
    "elif DATASET == 'MMWHS':\n",
    "    # Install Mega client for Python\n",
    "    !pip install -q megapy\n",
    "    from mega import Mega\n",
    "    mega = Mega()\n",
    "    # Replace with actual Mega file URL for MMWHS\n",
    "    mmwhs_url = 'https://mega.nz/folder/UNMF2YYI#1cqJVzo4p_wESv9P_pc8uA'\n",
    "    mega.download_url(mmwhs_url, dest_filename='mm_whs.zip')\n",
    "    !unzip -q mm_whs.zip -d mmwhs\n",
    "    data_dir = 'mmwhs'\n",
    "elif DATASET == 'APIS':\n",
    "    !kaggle datasets download -q thewilliamraisely/apis -f apis.zip\n",
    "    !unzip -q apis.zip -d apis\n",
    "    data_dir = 'apis'\n",
    "else:\n",
    "    raise ValueError(f\"Unknown dataset: {DATASET}\")\n",
    "print(f\"Data directory: {data_dir}\")"
   ]
  },
  {
   "cell_type": "code",
   "execution_count": null,
   "id": "bcebce60",
   "metadata": {},
   "outputs": [],
   "source": [
    "# Prepare data dictionaries for image and label files\n",
    "images = sorted(glob.glob(os.path.join(data_dir, 'images', '*.nii.gz')))\n",
    "labels = sorted(glob.glob(os.path.join(data_dir, 'labels', '*.nii.gz')))\n",
    "data_dicts = [{'image': img, 'label': lbl} for img, lbl in zip(images, labels)]\n",
    "\n",
    "# Define MONAI transforms for loading and processing\n",
    "transforms = Compose([\n",
    "    LoadImaged(keys=['image', 'label']),\n",
    "    AddChanneld(keys=['image', 'label']),\n",
    "    ScaleIntensityd(keys=['image']),\n",
    "    EnsureTyped(keys=['image', 'label']),\n",
    "])\n",
    "\n",
    "# Create dataset and DataLoader\n",
    "dataset = CacheDataset(data=data_dicts, transform=transforms)\n",
    "dataloader = DataLoader(dataset, batch_size=1)"
   ]
  },
  {
   "cell_type": "code",
   "execution_count": null,
   "id": "c8605030",
   "metadata": {},
   "outputs": [],
   "source": [
    "# Visualize the first sample from the DataLoader\n",
    "visualize_sample(dataloader, sample_index=0)"
   ]
  }
 ],
 "metadata": {
  "language_info": {
   "name": "python"
  }
 },
 "nbformat": 4,
 "nbformat_minor": 5
}
