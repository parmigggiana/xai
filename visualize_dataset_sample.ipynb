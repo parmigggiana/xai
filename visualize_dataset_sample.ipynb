{
 "cells": [
  {
   "cell_type": "code",
   "execution_count": 1,
   "id": "3b2fba58",
   "metadata": {},
   "outputs": [
    {
     "name": "stdout",
     "output_type": "stream",
     "text": [
      "2898\n"
     ]
    }
   ],
   "source": [
    "from src.datasets.registry import get_dataset\n",
    "\n",
    "chaos = get_dataset('MMWHS', domain='MR', location='data/MM-WHS/', slice_2d=True, batch_size=2, num_workers=0)\n",
    "print(len(chaos.train_dataset))"
   ]
  },
  {
   "cell_type": "code",
   "execution_count": null,
   "id": "1b90353f",
   "metadata": {},
   "outputs": [
    {
     "name": "stdout",
     "output_type": "stream",
     "text": [
      "i = 0\n"
     ]
    }
   ],
   "source": [
    "idx = 0\n",
    "assert idx < len(chaos.train_dataset), f\"Index {idx} is out of bounds for the dataset.\"\n",
    "for i, sample in enumerate(chaos.train_loader):\n",
    "    # break\n",
    "    # print(f\"{i = }\")\n",
    "    if i == idx:\n",
    "        chaos.visualize_sample_slice(sample)\n",
    "        chaos.visualize_3d(sample)\n",
    "        break"
   ]
  }
 ],
 "metadata": {
  "kernelspec": {
   "display_name": ".venv",
   "language": "python",
   "name": "python3"
  },
  "language_info": {
   "codemirror_mode": {
    "name": "ipython",
    "version": 3
   },
   "file_extension": ".py",
   "mimetype": "text/x-python",
   "name": "python",
   "nbconvert_exporter": "python",
   "pygments_lexer": "ipython3",
   "version": "3.12.10"
  }
 },
 "nbformat": 4,
 "nbformat_minor": 5
}
