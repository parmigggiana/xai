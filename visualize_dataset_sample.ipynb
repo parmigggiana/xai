{
 "cells": [
  {
   "cell_type": "markdown",
   "id": "b07eff45",
   "metadata": {},
   "source": [
    "# Dataset Sample Visualization\n",
    "\n",
    "This notebook demonstrates how to download the mm-whs, apis, or CHAOS datasets on Kaggle, load them with MONAI transforms, and visualize a single volumetric sample."
   ]
  },
  {
   "cell_type": "code",
   "execution_count": null,
   "id": "a5d746f0",
   "metadata": {},
   "outputs": [],
   "source": [
    "import os\n",
    "import glob\n",
    "# import matplotlib.pyplot as plt\n",
    "# import torch\n",
    "# from monai.transforms import Compose, LoadImaged, ScaleIntensityd, EnsureTyped\n",
    "from monai.data import CacheDataset, DataLoader\n",
    "# from monai_project.interface import visualize_sample"
   ]
  },
  {
   "cell_type": "code",
   "execution_count": null,
   "id": "9e48f74d",
   "metadata": {},
   "outputs": [],
   "source": [
    "# Select dataset: one of 'CHAOS', 'MMWHS', 'APIS'\n",
    "from monai_project.dataset import CHAOSMRIDataset\n",
    "\n",
    "\n",
    "DATASET = 'CHAOS_MRI'\n",
    "\n",
    "if DATASET == 'CHAOS_MRI':\n",
    "\n",
    "    data_dir = 'data/CHAOS/'\n",
    "    dataset = CHAOSMRIDataset(data_dir, split='Train_Sets')\n",
    "    dataloader = DataLoader(\n",
    "        dataset=dataset\n",
    "    )\n",
    "elif DATASET == 'MMWHS':\n",
    "    # Install Mega client for Python\n",
    "    mega = Mega()\n",
    "    # Replace with actual Mega file URL for MMWHS\n",
    "    mmwhs_url = 'https://mega.nz/folder/UNMF2YYI#1cqJVzo4p_wESv9P_pc8uA'\n",
    "    mega.download_url(mmwhs_url, dest_filename='mm_whs.zip')\n",
    "    !unzip -q mm_whs.zip -d mmwhs\n",
    "    data_dir = 'mmwhs'\n",
    "elif DATASET == 'APIS':\n",
    "    !kaggle datasets download -q thewilliamraisely/apis -f apis.zip\n",
    "    !unzip -q apis.zip -d apis\n",
    "    data_dir = 'apis'\n",
    "else:\n",
    "    raise ValueError(f\"Unknown dataset: {DATASET}\")\n",
    "print(f\"Data directory: {data_dir}\")"
   ]
  },
  {
   "cell_type": "code",
   "execution_count": null,
   "id": "ab8b16d9",
   "metadata": {},
   "outputs": [],
   "source": [
    "print(len(dataset))"
   ]
  },
  {
   "cell_type": "code",
   "execution_count": null,
   "id": "c8605030",
   "metadata": {},
   "outputs": [],
   "source": [
    "# Visualize the first sample from the MONAI DataLoader\n",
    "from monai_project.interface import visualize_sample_slice, visualize_sample, visualize_3d\n",
    "visualize_3d(dataloader, sample_index=19)"
   ]
  }
 ],
 "metadata": {
  "kernelspec": {
   "display_name": ".venv",
   "language": "python",
   "name": "python3"
  },
  "language_info": {
   "codemirror_mode": {
    "name": "ipython",
    "version": 3
   },
   "file_extension": ".py",
   "mimetype": "text/x-python",
   "name": "python",
   "nbconvert_exporter": "python",
   "pygments_lexer": "ipython3",
   "version": "3.11.12"
  }
 },
 "nbformat": 4,
 "nbformat_minor": 5
}
